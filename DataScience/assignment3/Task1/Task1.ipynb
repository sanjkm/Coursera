{
 "cells": [
  {
   "cell_type": "code",
   "execution_count": 3,
   "metadata": {},
   "outputs": [
    {
     "name": "stdout",
     "output_type": "stream",
     "text": [
      "Writing mapper.py\n"
     ]
    }
   ],
   "source": [
    "%%writefile mapper.py\n",
    "\n",
    "import sys\n",
    "\n",
    "reload(sys)\n",
    "sys.setdefaultencoding('utf-8') # required to convert to unicode\n",
    "\n",
    "for line in sys.stdin:\n",
    "    try:\n",
    "        word, word_count = unicode(line.strip()).split('\\t', 1)\n",
    "    except ValueError as e:\n",
    "        continue\n",
    "    word_count = int(word_count)\n",
    "    print >> sys.stderr, \"reporter:counter:Wiki stats,Word count,%d\" % word_count\n",
    "    print \"%d\\t%s\" % (word_count, word)"
   ]
  },
  {
   "cell_type": "code",
   "execution_count": 8,
   "metadata": {},
   "outputs": [
    {
     "name": "stdout",
     "output_type": "stream",
     "text": [
      "Overwriting reducer.py\n"
     ]
    }
   ],
   "source": [
    "%%writefile reducer.py\n",
    "\n",
    "import sys\n",
    "\n",
    "reload(sys)\n",
    "sys.setdefaultencoding('utf-8') # required to convert to unicode\n",
    "\n",
    "current_key = None\n",
    "word_sum = 0"
   ]
  },
  {
   "cell_type": "code",
   "execution_count": 1,
   "metadata": {},
   "outputs": [
    {
     "name": "stdout",
     "output_type": "stream",
     "text": [
      "Writing reducer.py\n"
     ]
    }
   ],
   "source": [
    "%%writefile -a reducer.py\n",
    "\n",
    "for line in sys.stdin:\n",
    "    try:\n",
    "        key, count = line.strip().split('\\t', 1)\n",
    "        count = int(count)\n",
    "    except ValueError as e:\n",
    "        continue\n",
    "    if current_key != key:\n",
    "        if current_key:\n",
    "            print \"%s\\t%d\" % (current_key, word_sum)\n",
    "        word_sum = 0\n",
    "        current_key = key\n",
    "    word_sum += count\n",
    "\n",
    "if current_key:\n",
    "    print \"%s\\t%d\" % (current_key, word_sum)"
   ]
  },
  {
   "cell_type": "code",
   "execution_count": 11,
   "metadata": {},
   "outputs": [
    {
     "name": "stdout",
     "output_type": "stream",
     "text": [
      "Writing T1mapper_out.py\n"
     ]
    }
   ],
   "source": [
    "%%writefile T1mapper_out.py\n",
    "\n",
    "import sys\n",
    "\n",
    "reload(sys)\n",
    "sys.setdefaultencoding('utf-8') # required to convert to unicode\n",
    "\n",
    "CountDict = {} # key is count, value is list of all words that have that count\n",
    "\n",
    "for line in sys.stdin:\n",
    "    try:\n",
    "        word, word_count = unicode(line.strip()).split('\\t', 1)\n",
    "    except ValueError as e:\n",
    "        continue\n",
    "    word_count = int(word_count)\n",
    "    if word_count in CountDict:\n",
    "        CountDict[word_count].append(word)\n",
    "    else:\n",
    "        CountDict[word_count] = [word]\n",
    "\n",
    "word_sep = ';'\n",
    "for word_count in CountDict:\n",
    "    print \"%d\\t%s\" % (word_count, word_sep.join(CountDict[word_count]))"
   ]
  },
  {
   "cell_type": "code",
   "execution_count": 12,
   "metadata": {},
   "outputs": [
    {
     "name": "stdout",
     "output_type": "stream",
     "text": [
      "Overwriting T1combiner.py\n"
     ]
    }
   ],
   "source": [
    "%%writefile T1combiner.py\n",
    "\n",
    "import sys\n",
    "\n",
    "reload(sys)\n",
    "sys.setdefaultencoding('utf-8') # required to convert to unicode\n",
    "\n",
    "CountDict = {} # key is count, value is list of all words that have that count\n",
    "\n",
    "for line in sys.stdin:\n",
    "    try:\n",
    "        word_count, word = unicode(line.strip()).split('\\t', 1)\n",
    "    except ValueError as e:\n",
    "        continue\n",
    "    word_count = int(word_count)\n",
    "    if word_count in CountDict:\n",
    "        CountDict[word_count].append(word)\n",
    "    else:\n",
    "        CountDict[word_count] = [word]\n",
    "\n",
    "word_sep = ';'\n",
    "for word_count in CountDict:\n",
    "    print \"%d\\t%s\" % (word_count, word_sep.join(CountDict[word_count]))"
   ]
  },
  {
   "cell_type": "code",
   "execution_count": 13,
   "metadata": {},
   "outputs": [
    {
     "name": "stdout",
     "output_type": "stream",
     "text": [
      "Overwriting T1reducer.py\n"
     ]
    }
   ],
   "source": [
    "%%writefile T1reducer.py\n",
    "\n",
    "import sys\n",
    "\n",
    "reload(sys)\n",
    "sys.setdefaultencoding('utf-8') # required to convert to unicode\n",
    "\n",
    "# Adds line of word_count and associated words to the WordCountList\n",
    "# in the correct index such that the list retains reverse sort order in word_count\n",
    "def AddElementtoList (WordCountList, word_count, words, curr_index):\n",
    "\n",
    "    if len(WordCountList) == 0: # Insert the first element in the list\n",
    "        test_index = 0\n",
    "        WordCountList.append([word_count, words])\n",
    "        return WordCountList, test_index\n",
    "        \n",
    "    if word_count > WordCountList[curr_index][0]:\n",
    "        test_index = 0\n",
    "    else:\n",
    "        test_index = curr_index\n",
    "        \n",
    "    while WordCountList[test_index][0] > word_count:\n",
    "        if test_index < len(WordCountList):\n",
    "            test_index += 1\n",
    "        if test_index == len(WordCountList):\n",
    "            break\n",
    "    # Now, consider the cases for where to insert this data into the list\n",
    "    if test_index == len(WordCountList): # Append this data to the list's end\n",
    "        WordCountList.append ([word_count, words])\n",
    "\n",
    "    elif WordCountList[test_index][0] == word_count: # Words of this length already exist in the list\n",
    "        WordCountList[test_index][1] = WordCountList[test_index][1] + words\n",
    "        \n",
    "    elif test_index < len(WordCountList): # Insert this data into the list at index test_index\n",
    "        WordCountList.insert(test_index, [word_count, words])\n",
    "        \n",
    "        \n",
    "    return WordCountList, test_index\n",
    "\n",
    "WordCountList = []\n",
    "curr_index = 0\n",
    "for line in sys.stdin:\n",
    "    word_sep = ';'\n",
    "    try:\n",
    "        word_count, words = unicode(line.strip()).split('\\t',1)\n",
    "        wordList = words.split(word_sep)\n",
    "    except ValueError as e:\n",
    "        continue\n",
    "    word_count = int(word_count)\n",
    "    WordCountList, curr_index = AddElementtoList (WordCountList, word_count, wordList, curr_index)\n",
    "\n",
    "for WordCount in WordCountList:\n",
    "    for word in WordCount[1]:\n",
    "        print \"%s\\t%d\" % (word, WordCount[0])"
   ]
  },
  {
   "cell_type": "code",
   "execution_count": 15,
   "metadata": {},
   "outputs": [
    {
     "name": "stdout",
     "output_type": "stream",
     "text": [
      "is\t126420\n"
     ]
    },
    {
     "name": "stderr",
     "output_type": "stream",
     "text": [
      "18/02/13 17:33:09 INFO client.RMProxy: Connecting to ResourceManager at /0.0.0.0:8032\n",
      "18/02/13 17:33:09 INFO client.RMProxy: Connecting to ResourceManager at /0.0.0.0:8032\n",
      "18/02/13 17:33:09 INFO mapred.FileInputFormat: Total input files to process : 1\n",
      "18/02/13 17:33:09 INFO mapreduce.JobSubmitter: number of splits:2\n",
      "18/02/13 17:33:09 INFO mapreduce.JobSubmitter: Submitting tokens for job: job_1518474324860_0008\n",
      "18/02/13 17:33:10 INFO impl.YarnClientImpl: Submitted application application_1518474324860_0008\n",
      "18/02/13 17:33:10 INFO mapreduce.Job: The url to track the job: http://561c2dc5305b:8088/proxy/application_1518474324860_0008/\n",
      "18/02/13 17:33:10 INFO mapreduce.Job: Running job: job_1518474324860_0008\n",
      "18/02/13 17:33:15 INFO mapreduce.Job: Job job_1518474324860_0008 running in uber mode : false\n",
      "18/02/13 17:33:15 INFO mapreduce.Job:  map 0% reduce 0%\n",
      "18/02/13 17:33:31 INFO mapreduce.Job:  map 34% reduce 0%\n",
      "18/02/13 17:33:37 INFO mapreduce.Job:  map 46% reduce 0%\n",
      "18/02/13 17:33:43 INFO mapreduce.Job:  map 52% reduce 0%\n",
      "18/02/13 17:33:49 INFO mapreduce.Job:  map 67% reduce 0%\n",
      "18/02/13 17:33:53 INFO mapreduce.Job:  map 100% reduce 0%\n",
      "18/02/13 17:33:57 INFO mapreduce.Job:  map 100% reduce 13%\n",
      "18/02/13 17:33:58 INFO mapreduce.Job:  map 100% reduce 25%\n",
      "18/02/13 17:34:00 INFO mapreduce.Job:  map 100% reduce 38%\n",
      "18/02/13 17:34:01 INFO mapreduce.Job:  map 100% reduce 75%\n",
      "18/02/13 17:34:02 INFO mapreduce.Job:  map 100% reduce 100%\n",
      "18/02/13 17:34:03 INFO mapreduce.Job: Job job_1518474324860_0008 completed successfully\n",
      "18/02/13 17:34:03 INFO mapreduce.Job: Counters: 51\n",
      "\tFile System Counters\n",
      "\t\tFILE: Number of bytes read=17954826\n",
      "\t\tFILE: Number of bytes written=28256493\n",
      "\t\tFILE: Number of read operations=0\n",
      "\t\tFILE: Number of large read operations=0\n",
      "\t\tFILE: Number of write operations=0\n",
      "\t\tHDFS: Number of bytes read=76874501\n",
      "\t\tHDFS: Number of bytes written=5370513\n",
      "\t\tHDFS: Number of read operations=30\n",
      "\t\tHDFS: Number of large read operations=0\n",
      "\t\tHDFS: Number of write operations=16\n",
      "\tJob Counters \n",
      "\t\tKilled reduce tasks=1\n",
      "\t\tLaunched map tasks=2\n",
      "\t\tLaunched reduce tasks=8\n",
      "\t\tData-local map tasks=2\n",
      "\t\tTotal time spent by all maps in occupied slots (ms)=71603\n",
      "\t\tTotal time spent by all reduces in occupied slots (ms)=21717\n",
      "\t\tTotal time spent by all map tasks (ms)=71603\n",
      "\t\tTotal time spent by all reduce tasks (ms)=21717\n",
      "\t\tTotal vcore-milliseconds taken by all map tasks=71603\n",
      "\t\tTotal vcore-milliseconds taken by all reduce tasks=21717\n",
      "\t\tTotal megabyte-milliseconds taken by all map tasks=73321472\n",
      "\t\tTotal megabyte-milliseconds taken by all reduce tasks=22238208\n",
      "\tMap-Reduce Framework\n",
      "\t\tMap input records=4100\n",
      "\t\tMap output records=11937375\n",
      "\t\tMap output bytes=97842436\n",
      "\t\tMap output materialized bytes=8952763\n",
      "\t\tInput split bytes=228\n",
      "\t\tCombine input records=11937375\n",
      "\t\tCombine output records=640011\n",
      "\t\tReduce input groups=427175\n",
      "\t\tReduce shuffle bytes=8952763\n",
      "\t\tReduce input records=640011\n",
      "\t\tReduce output records=427175\n",
      "\t\tSpilled Records=1920033\n",
      "\t\tShuffled Maps =16\n",
      "\t\tFailed Shuffles=0\n",
      "\t\tMerged Map outputs=16\n",
      "\t\tGC time elapsed (ms)=1209\n",
      "\t\tCPU time spent (ms)=125000\n",
      "\t\tPhysical memory (bytes) snapshot=2320977920\n",
      "\t\tVirtual memory (bytes) snapshot=20212072448\n",
      "\t\tTotal committed heap usage (bytes)=1609564160\n",
      "\tShuffle Errors\n",
      "\t\tBAD_ID=0\n",
      "\t\tCONNECTION=0\n",
      "\t\tIO_ERROR=0\n",
      "\t\tWRONG_LENGTH=0\n",
      "\t\tWRONG_MAP=0\n",
      "\t\tWRONG_REDUCE=0\n",
      "\tWiki stats\n",
      "\t\tTotal words=11937375\n",
      "\tFile Input Format Counters \n",
      "\t\tBytes Read=76874273\n",
      "\tFile Output Format Counters \n",
      "\t\tBytes Written=5370513\n",
      "18/02/13 17:34:03 INFO streaming.StreamJob: Output directory: wordcount_result_1518543187906230\n",
      "18/02/13 17:34:05 INFO client.RMProxy: Connecting to ResourceManager at /0.0.0.0:8032\n",
      "18/02/13 17:34:05 INFO client.RMProxy: Connecting to ResourceManager at /0.0.0.0:8032\n",
      "18/02/13 17:34:05 ERROR streaming.StreamJob: Error Launching job : Output directory hdfs://localhost:9000/user/jovyan/reverse_wordcount_sanj_result already exists\n",
      "Streaming Command Failed!\n",
      "cat: Unable to write to output stream.\n"
     ]
    }
   ],
   "source": [
    "%%bash\n",
    "\n",
    "\n",
    "OUT_DIR=\"wordcount_result_\"$(date +\"%s%6N\")\n",
    "NUM_REDUCERS=8\n",
    "\n",
    "yarn jar /opt/cloudera/parcels/CDH/lib/hadoop-mapreduce/hadoop-streaming.jar \\\n",
    "    -D mapreduce.job.name=\"Streaming wordCount\" \\\n",
    "    -D mapreduce.job.reduces=${NUM_REDUCERS} \\\n",
    "    -files mapper.py,reducer.py \\\n",
    "    -mapper \"python mapper.py\" \\\n",
    "    -combiner \"python reducer.py\" \\\n",
    "    -reducer \"python reducer.py\" \\\n",
    "    -input /data/wiki/en_articles_part \\\n",
    "    -output ${OUT_DIR} > /dev/null\n",
    "\n",
    "yarn jar /opt/cloudera/parcels/CDH/lib/hadoop-mapreduce/hadoop-streaming.jar \\\n",
    "    -D mapreduce.job.name=\"Reverse Sorted WordCount\" \\\n",
    "    -D mapreduce.job.reduces=1 \\\n",
    "    -D mapreduce.job.output.key.comparator.class=org.apache.hadoop.mapreduce.lib.partition.KeyFieldBasedComparator \\\n",
    "    -D mapreduce.map.output.key.field.separator='\\t' \\\n",
    "    -D mapreduce.partition.keycomparator.options=\"-k1rn\" \\\n",
    "    -files T1mapper_out.py,T1reducer.py,T1combiner.py \\\n",
    "    -mapper \"python T1mapper_out.py\" \\\n",
    "    -combiner \"python T1combiner.py\" \\\n",
    "    -reducer \"python T1reducer.py\" \\\n",
    "    -input ${OUT_DIR} \\\n",
    "    -output reverse_wordcount_sanj_result > /dev/null\n",
    "\n",
    "hdfs dfs -cat reverse_wordcount_sanj_result/part-00000 | head -7 | tail -1"
   ]
  },
  {
   "cell_type": "code",
   "execution_count": null,
   "metadata": {},
   "outputs": [],
   "source": []
  }
 ],
 "metadata": {
  "kernelspec": {
   "display_name": "Python 2",
   "language": "python",
   "name": "python2"
  },
  "language_info": {
   "codemirror_mode": {
    "name": "ipython",
    "version": 2
   },
   "file_extension": ".py",
   "mimetype": "text/x-python",
   "name": "python",
   "nbconvert_exporter": "python",
   "pygments_lexer": "ipython2",
   "version": "2.7.12"
  }
 },
 "nbformat": 4,
 "nbformat_minor": 2
}
