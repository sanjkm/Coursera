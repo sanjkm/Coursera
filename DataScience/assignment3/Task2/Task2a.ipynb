{
 "cells": [
  {
   "cell_type": "code",
   "execution_count": 1,
   "metadata": {},
   "outputs": [
    {
     "name": "stdout",
     "output_type": "stream",
     "text": [
      "Writing T2mapper.py\n"
     ]
    }
   ],
   "source": [
    "%%writefile T2mapper.py\n",
    "\n",
    "import sys\n",
    "import re\n",
    "\n",
    "reload(sys)\n",
    "sys.setdefaultencoding('utf-8') # required to convert to unicode\n",
    "\n",
    "StopWordsFile = 'stop_words_en.txt'\n",
    "StopWordsSet = set()\n",
    "\n",
    "# Makes a list containing the stop words\n",
    "with open(StopWordsFile, 'r') as f_stop:\n",
    "    for line in f_stop:\n",
    "        StopWordsSet.add(line.strip())\n",
    "f_stop.close()\n",
    "\n",
    "total_words, stop_words = 0,0\n",
    "for line in sys.stdin:\n",
    "    try:\n",
    "        article_id, text = unicode(line.strip()).split('\\t', 1)\n",
    "    except ValueError as e:\n",
    "        continue\n",
    "    words = re.split(\"\\W*\\s+\\W*\", text, flags=re.UNICODE)\n",
    "    for word in words:\n",
    "        print >> sys.stderr, \"reporter:counter:Wiki stats,Total words,%d\" % 1\n",
    "        if word.lower() in StopWordsSet:\n",
    "            stop_word_test = 1\n",
    "        else:\n",
    "            stop_word_test = 0\n",
    "        print >> sys.stderr, \"reporter:counter:Stop stats,Stop words,%d\" % stop_word_test"
   ]
  },
  {
   "cell_type": "code",
   "execution_count": 2,
   "metadata": {},
   "outputs": [
    {
     "name": "stdout",
     "output_type": "stream",
     "text": [
      "Writing WordPerc.py\n"
     ]
    }
   ],
   "source": [
    "%%writefile WordPerc.py\n",
    "\n",
    "import sys\n",
    "index = 0\n",
    "WordTypeList = ['Stop', 'Total']\n",
    "WordDict = {}\n",
    "for line in sys.stdin:\n",
    "    WordDict[WordTypeList[index]] = int((line.strip()).split('=')[1])\n",
    "    index += 1\n",
    "print (\"%.4f\" % (((100.0 * WordDict['Stop']) / WordDict['Total'])))"
   ]
  },
  {
   "cell_type": "code",
   "execution_count": 4,
   "metadata": {},
   "outputs": [
    {
     "name": "stdout",
     "output_type": "stream",
     "text": [
      "Writing Calc.sh\n"
     ]
    }
   ],
   "source": [
    "%%writefile Calc.sh\n",
    "cat output.log | grep words= | python WordPerc.py\n",
    "cat output.log >&2"
   ]
  },
  {
   "cell_type": "code",
   "execution_count": 5,
   "metadata": {},
   "outputs": [],
   "source": [
    "%%bash\n",
    "chmod 777 Calc.sh"
   ]
  },
  {
   "cell_type": "code",
   "execution_count": 6,
   "metadata": {},
   "outputs": [
    {
     "name": "stdout",
     "output_type": "stream",
     "text": [
      "41.6026\n"
     ]
    },
    {
     "name": "stderr",
     "output_type": "stream",
     "text": [
      "18/02/07 03:31:56 INFO client.RMProxy: Connecting to ResourceManager at /0.0.0.0:8032\n",
      "18/02/07 03:31:57 INFO client.RMProxy: Connecting to ResourceManager at /0.0.0.0:8032\n",
      "18/02/07 03:31:57 INFO mapred.FileInputFormat: Total input files to process : 1\n",
      "18/02/07 03:31:57 INFO mapreduce.JobSubmitter: number of splits:2\n",
      "18/02/07 03:31:57 INFO mapreduce.JobSubmitter: Submitting tokens for job: job_1517949445965_0002\n",
      "18/02/07 03:31:57 INFO impl.YarnClientImpl: Submitted application application_1517949445965_0002\n",
      "18/02/07 03:31:57 INFO mapreduce.Job: The url to track the job: http://7588fa1c8798:8088/proxy/application_1517949445965_0002/\n",
      "18/02/07 03:31:57 INFO mapreduce.Job: Running job: job_1517949445965_0002\n",
      "18/02/07 03:32:02 INFO mapreduce.Job: Job job_1517949445965_0002 running in uber mode : false\n",
      "18/02/07 03:32:02 INFO mapreduce.Job:  map 0% reduce 0%\n",
      "18/02/07 03:32:19 INFO mapreduce.Job:  map 43% reduce 0%\n",
      "18/02/07 03:32:25 INFO mapreduce.Job:  map 65% reduce 0%\n",
      "18/02/07 03:32:31 INFO mapreduce.Job:  map 87% reduce 0%\n",
      "18/02/07 03:32:35 INFO mapreduce.Job:  map 100% reduce 0%\n",
      "18/02/07 03:32:36 INFO mapreduce.Job: Job job_1517949445965_0002 completed successfully\n",
      "18/02/07 03:32:36 INFO mapreduce.Job: Counters: 32\n",
      "\tFile System Counters\n",
      "\t\tFILE: Number of bytes read=0\n",
      "\t\tFILE: Number of bytes written=278376\n",
      "\t\tFILE: Number of read operations=0\n",
      "\t\tFILE: Number of large read operations=0\n",
      "\t\tFILE: Number of write operations=0\n",
      "\t\tHDFS: Number of bytes read=76874501\n",
      "\t\tHDFS: Number of bytes written=0\n",
      "\t\tHDFS: Number of read operations=10\n",
      "\t\tHDFS: Number of large read operations=0\n",
      "\t\tHDFS: Number of write operations=4\n",
      "\tJob Counters \n",
      "\t\tLaunched map tasks=2\n",
      "\t\tData-local map tasks=2\n",
      "\t\tTotal time spent by all maps in occupied slots (ms)=59390\n",
      "\t\tTotal time spent by all reduces in occupied slots (ms)=0\n",
      "\t\tTotal time spent by all map tasks (ms)=59390\n",
      "\t\tTotal vcore-milliseconds taken by all map tasks=59390\n",
      "\t\tTotal megabyte-milliseconds taken by all map tasks=60815360\n",
      "\tMap-Reduce Framework\n",
      "\t\tMap input records=4100\n",
      "\t\tMap output records=0\n",
      "\t\tInput split bytes=228\n",
      "\t\tSpilled Records=0\n",
      "\t\tFailed Shuffles=0\n",
      "\t\tMerged Map outputs=0\n",
      "\t\tGC time elapsed (ms)=1716\n",
      "\t\tCPU time spent (ms)=105270\n",
      "\t\tPhysical memory (bytes) snapshot=381083648\n",
      "\t\tVirtual memory (bytes) snapshot=4022099968\n",
      "\t\tTotal committed heap usage (bytes)=326107136\n",
      "\tStop stats\n",
      "\t\tStop words=4966261\n",
      "\tWiki stats\n",
      "\t\tTotal words=11937375\n",
      "\tFile Input Format Counters \n",
      "\t\tBytes Read=76874273\n",
      "\tFile Output Format Counters \n",
      "\t\tBytes Written=0\n",
      "18/02/07 03:32:36 INFO streaming.StreamJob: Output directory: wordstop_result_1517974315336945\n"
     ]
    }
   ],
   "source": [
    "%%bash\n",
    "\n",
    "OUT_DIR=\"wordstop_result_\"$(date +\"%s%6N\")\n",
    "NUM_REDUCERS=0\n",
    "\n",
    "yarn jar /opt/cloudera/parcels/CDH/lib/hadoop-mapreduce/hadoop-streaming.jar \\\n",
    "    -D mapreduce.job.name=\"Streaming Stopwords\" \\\n",
    "    -D mapreduce.job.reduces=${NUM_REDUCERS} \\\n",
    "    -files T2mapper.py,/datasets/stop_words_en.txt \\\n",
    "    -mapper \"python T2mapper.py\" \\\n",
    "    -input /data/wiki/en_articles_part \\\n",
    "    -output ${OUT_DIR} > /dev/null 2> output.log\n",
    "./Calc.sh"
   ]
  }
 ],
 "metadata": {
  "kernelspec": {
   "display_name": "Python 2",
   "language": "python",
   "name": "python2"
  },
  "language_info": {
   "codemirror_mode": {
    "name": "ipython",
    "version": 2
   },
   "file_extension": ".py",
   "mimetype": "text/x-python",
   "name": "python",
   "nbconvert_exporter": "python",
   "pygments_lexer": "ipython2",
   "version": "2.7.12"
  }
 },
 "nbformat": 4,
 "nbformat_minor": 2
}
