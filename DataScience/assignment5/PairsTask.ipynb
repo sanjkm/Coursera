{
 "cells": [
  {
   "cell_type": "code",
   "execution_count": 1,
   "metadata": {},
   "outputs": [],
   "source": [
    "from pyspark import SparkConf, SparkContext\n",
    "from collections import Counter\n",
    "\n",
    "import re\n",
    "\n",
    "def parse_article(line):\n",
    "    try:\n",
    "        article_id, text = unicode(line.rstrip()).split('\\t', 1)\n",
    "        text = re.sub(\"^\\W+|\\W+$\", \"\", text, flags=re.UNICODE)\n",
    "        words = re.split(\"\\W*\\s+\\W*\", text, flags=re.UNICODE)\n",
    "        return words\n",
    "    except ValueError as e:\n",
    "        return []\n",
    "\n",
    "def processRecord (record):\n",
    "    key_word = \"narodnaya\"\n",
    "    couple_list = []\n",
    "    flag = 0\n",
    "    cnt = Counter()\n",
    "    for word in record:\n",
    "        if flag == 1:\n",
    "            couple_list.append(word.lower())\n",
    "            cnt[word.lower()] += 1\n",
    "        flag = 0\n",
    "        if word.lower() == key_word:\n",
    "            flag = 1\n",
    "    return couple_list\n",
    "    \n",
    "sc = SparkContext(conf=SparkConf().setAppName(\"MyApp\").setMaster(\"local\"))\n",
    "\n",
    "wiki = sc.textFile(\"/data/wiki/en_articles_part/articles-part\", 16).map(parse_article)\n",
    "result = wiki.take(1)[0]\n",
    "key_word_pair = wiki.map(processRecord)"
   ]
  },
  {
   "cell_type": "code",
   "execution_count": 2,
   "metadata": {},
   "outputs": [],
   "source": [
    "key_word_reduce = key_word_pair.reduce(lambda x,y:x+y)"
   ]
  },
  {
   "cell_type": "code",
   "execution_count": 3,
   "metadata": {},
   "outputs": [],
   "source": [
    "PairWordRDD = sc.parallelize(key_word_reduce)"
   ]
  },
  {
   "cell_type": "code",
   "execution_count": 4,
   "metadata": {},
   "outputs": [],
   "source": [
    "PairWordCount = PairWordRDD.countByValue()"
   ]
  },
  {
   "cell_type": "code",
   "execution_count": 5,
   "metadata": {},
   "outputs": [
    {
     "name": "stdout",
     "output_type": "stream",
     "text": [
      "2\n"
     ]
    }
   ],
   "source": [
    "print len(PairWordCount)"
   ]
  },
  {
   "cell_type": "code",
   "execution_count": 10,
   "metadata": {},
   "outputs": [
    {
     "name": "stdout",
     "output_type": "stream",
     "text": [
      "narodnaya_gazeta\t1\n",
      "narodnaya_volya\t9\n"
     ]
    }
   ],
   "source": [
    "pair_start = \"narodnaya_\"\n",
    "for x in sorted(PairWordCount):\n",
    "    print \"%s%s\\t%d\" % (pair_start,x,PairWordCount[x])"
   ]
  }
 ],
 "metadata": {
  "kernelspec": {
   "display_name": "Python 2",
   "language": "python",
   "name": "python2"
  },
  "language_info": {
   "codemirror_mode": {
    "name": "ipython",
    "version": 2
   },
   "file_extension": ".py",
   "mimetype": "text/x-python",
   "name": "python",
   "nbconvert_exporter": "python",
   "pygments_lexer": "ipython2",
   "version": "2.7.12"
  }
 },
 "nbformat": 4,
 "nbformat_minor": 2
}
